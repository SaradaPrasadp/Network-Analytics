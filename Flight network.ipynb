{
 "cells": [
  {
   "cell_type": "markdown",
   "metadata": {},
   "source": [
    "                                               Flight Data\n",
    "                                               "
   ]
  },
  {
   "cell_type": "code",
   "execution_count": 1,
   "metadata": {},
   "outputs": [],
   "source": [
    "import pandas as pd\n",
    "import numpy as np\n",
    "import networkx as nx \n",
    "import matplotlib.pyplot as plt"
   ]
  },
  {
   "cell_type": "code",
   "execution_count": 36,
   "metadata": {},
   "outputs": [
    {
     "name": "stdout",
     "output_type": "stream",
     "text": [
      "<class 'pandas.core.frame.DataFrame'>\n",
      "RangeIndex: 8107 entries, 0 to 8106\n",
      "Data columns (total 12 columns):\n",
      " #   Column            Non-Null Count  Dtype  \n",
      "---  ------            --------------  -----  \n",
      " 0   ID                8107 non-null   int64  \n",
      " 1   NAME              8107 non-null   object \n",
      " 2   CITY              8107 non-null   object \n",
      " 3   COUNTRY           8107 non-null   object \n",
      " 4   IATA_FFA          5880 non-null   object \n",
      " 5   ICO               8043 non-null   object \n",
      " 6   Latitude          8107 non-null   float64\n",
      " 7   Longitude         8107 non-null   float64\n",
      " 8   Altitude          8107 non-null   int64  \n",
      " 9   Time              8107 non-null   float64\n",
      " 10  DSt               8107 non-null   object \n",
      " 11  TZ_Database_Time  8107 non-null   object \n",
      "dtypes: float64(3), int64(2), object(7)\n",
      "memory usage: 760.2+ KB\n",
      "None\n"
     ]
    },
    {
     "data": {
      "text/html": [
       "<div>\n",
       "<style scoped>\n",
       "    .dataframe tbody tr th:only-of-type {\n",
       "        vertical-align: middle;\n",
       "    }\n",
       "\n",
       "    .dataframe tbody tr th {\n",
       "        vertical-align: top;\n",
       "    }\n",
       "\n",
       "    .dataframe thead th {\n",
       "        text-align: right;\n",
       "    }\n",
       "</style>\n",
       "<table border=\"1\" class=\"dataframe\">\n",
       "  <thead>\n",
       "    <tr style=\"text-align: right;\">\n",
       "      <th></th>\n",
       "      <th>Unnamed: 0</th>\n",
       "      <th>Airline</th>\n",
       "      <th>Airline ID</th>\n",
       "      <th>Source Airport</th>\n",
       "      <th>Source Airport ID</th>\n",
       "      <th>Destination Airport</th>\n",
       "      <th>Destination Airport ID</th>\n",
       "      <th>Stops</th>\n",
       "      <th>Equipment</th>\n",
       "      <th>NA</th>\n",
       "    </tr>\n",
       "  </thead>\n",
       "  <tbody>\n",
       "    <tr>\n",
       "      <th>0</th>\n",
       "      <td>1</td>\n",
       "      <td>2B</td>\n",
       "      <td>410</td>\n",
       "      <td>AER</td>\n",
       "      <td>2965</td>\n",
       "      <td>KZN</td>\n",
       "      <td>2990</td>\n",
       "      <td>NaN</td>\n",
       "      <td>0</td>\n",
       "      <td>CR2</td>\n",
       "    </tr>\n",
       "    <tr>\n",
       "      <th>1</th>\n",
       "      <td>2</td>\n",
       "      <td>2B</td>\n",
       "      <td>410</td>\n",
       "      <td>ASF</td>\n",
       "      <td>2966</td>\n",
       "      <td>KZN</td>\n",
       "      <td>2990</td>\n",
       "      <td>NaN</td>\n",
       "      <td>0</td>\n",
       "      <td>CR2</td>\n",
       "    </tr>\n",
       "    <tr>\n",
       "      <th>2</th>\n",
       "      <td>3</td>\n",
       "      <td>2B</td>\n",
       "      <td>410</td>\n",
       "      <td>ASF</td>\n",
       "      <td>2966</td>\n",
       "      <td>MRV</td>\n",
       "      <td>2962</td>\n",
       "      <td>NaN</td>\n",
       "      <td>0</td>\n",
       "      <td>CR2</td>\n",
       "    </tr>\n",
       "    <tr>\n",
       "      <th>3</th>\n",
       "      <td>4</td>\n",
       "      <td>2B</td>\n",
       "      <td>410</td>\n",
       "      <td>CEK</td>\n",
       "      <td>2968</td>\n",
       "      <td>KZN</td>\n",
       "      <td>2990</td>\n",
       "      <td>NaN</td>\n",
       "      <td>0</td>\n",
       "      <td>CR2</td>\n",
       "    </tr>\n",
       "    <tr>\n",
       "      <th>4</th>\n",
       "      <td>5</td>\n",
       "      <td>2B</td>\n",
       "      <td>410</td>\n",
       "      <td>CEK</td>\n",
       "      <td>2968</td>\n",
       "      <td>OVB</td>\n",
       "      <td>4078</td>\n",
       "      <td>NaN</td>\n",
       "      <td>0</td>\n",
       "      <td>CR2</td>\n",
       "    </tr>\n",
       "    <tr>\n",
       "      <th>5</th>\n",
       "      <td>6</td>\n",
       "      <td>2B</td>\n",
       "      <td>410</td>\n",
       "      <td>DME</td>\n",
       "      <td>4029</td>\n",
       "      <td>KZN</td>\n",
       "      <td>2990</td>\n",
       "      <td>NaN</td>\n",
       "      <td>0</td>\n",
       "      <td>CR2</td>\n",
       "    </tr>\n",
       "    <tr>\n",
       "      <th>6</th>\n",
       "      <td>7</td>\n",
       "      <td>2B</td>\n",
       "      <td>410</td>\n",
       "      <td>DME</td>\n",
       "      <td>4029</td>\n",
       "      <td>NBC</td>\n",
       "      <td>6969</td>\n",
       "      <td>NaN</td>\n",
       "      <td>0</td>\n",
       "      <td>CR2</td>\n",
       "    </tr>\n",
       "    <tr>\n",
       "      <th>7</th>\n",
       "      <td>8</td>\n",
       "      <td>2B</td>\n",
       "      <td>410</td>\n",
       "      <td>DME</td>\n",
       "      <td>4029</td>\n",
       "      <td>TGK</td>\n",
       "      <td>\\N</td>\n",
       "      <td>NaN</td>\n",
       "      <td>0</td>\n",
       "      <td>CR2</td>\n",
       "    </tr>\n",
       "    <tr>\n",
       "      <th>8</th>\n",
       "      <td>9</td>\n",
       "      <td>2B</td>\n",
       "      <td>410</td>\n",
       "      <td>DME</td>\n",
       "      <td>4029</td>\n",
       "      <td>UUA</td>\n",
       "      <td>6160</td>\n",
       "      <td>NaN</td>\n",
       "      <td>0</td>\n",
       "      <td>CR2</td>\n",
       "    </tr>\n",
       "    <tr>\n",
       "      <th>9</th>\n",
       "      <td>10</td>\n",
       "      <td>2B</td>\n",
       "      <td>410</td>\n",
       "      <td>EGO</td>\n",
       "      <td>6156</td>\n",
       "      <td>KGD</td>\n",
       "      <td>2952</td>\n",
       "      <td>NaN</td>\n",
       "      <td>0</td>\n",
       "      <td>CR2</td>\n",
       "    </tr>\n",
       "  </tbody>\n",
       "</table>\n",
       "</div>"
      ],
      "text/plain": [
       "   Unnamed: 0 Airline Airline ID Source Airport Source Airport ID  \\\n",
       "0           1      2B        410            AER              2965   \n",
       "1           2      2B        410            ASF              2966   \n",
       "2           3      2B        410            ASF              2966   \n",
       "3           4      2B        410            CEK              2968   \n",
       "4           5      2B        410            CEK              2968   \n",
       "5           6      2B        410            DME              4029   \n",
       "6           7      2B        410            DME              4029   \n",
       "7           8      2B        410            DME              4029   \n",
       "8           9      2B        410            DME              4029   \n",
       "9          10      2B        410            EGO              6156   \n",
       "\n",
       "  Destination Airport Destination Airport ID Stops  Equipment   NA  \n",
       "0                 KZN                   2990   NaN          0  CR2  \n",
       "1                 KZN                   2990   NaN          0  CR2  \n",
       "2                 MRV                   2962   NaN          0  CR2  \n",
       "3                 KZN                   2990   NaN          0  CR2  \n",
       "4                 OVB                   4078   NaN          0  CR2  \n",
       "5                 KZN                   2990   NaN          0  CR2  \n",
       "6                 NBC                   6969   NaN          0  CR2  \n",
       "7                 TGK                     \\N   NaN          0  CR2  \n",
       "8                 UUA                   6160   NaN          0  CR2  \n",
       "9                 KGD                   2952   NaN          0  CR2  "
      ]
     },
     "execution_count": 36,
     "metadata": {},
     "output_type": "execute_result"
    }
   ],
   "source": [
    "Flight_detail = pd.read_csv(\"flight_hault.csv\")\n",
    "Routes = pd.read_csv(\"routes.csv\")\n",
    "print(Flight_detail.info())\n",
    "Routes.head(10)\n"
   ]
  },
  {
   "cell_type": "code",
   "execution_count": 31,
   "metadata": {},
   "outputs": [
    {
     "name": "stdout",
     "output_type": "stream",
     "text": [
      "Name: \n",
      "Type: Graph\n",
      "Number of nodes: 3425\n",
      "Number of edges: 19257\n",
      "Average degree:  11.2450\n"
     ]
    },
    {
     "data": {
      "image/png": "[encoded data removed]",
      "text/plain": [
       "<Figure size 432x288 with 1 Axes>"
      ]
     },
     "metadata": {},
     "output_type": "display_data"
    }
   ],
   "source": [
    "# we'll calcullate our nodes and edges here by converting this into edgelist matrix.\n",
    "g = nx.Graph()\n",
    "g = nx.from_pandas_edgelist(Routes, source = 'Source Airport', target = 'Destination Airport')\n",
    "print(nx.info(g))\n",
    "pos = nx.spring_layout(g, k = 0.15)\n",
    "nx.draw_networkx(g, pos, node_size = 25, node_color = 'blue')\n"
   ]
  },
  {
   "cell_type": "code",
   "execution_count": 43,
   "metadata": {},
   "outputs": [
    {
     "name": "stdout",
     "output_type": "stream",
     "text": [
      "ZYL\n"
     ]
    },
    {
     "ename": "AttributeError",
     "evalue": "module 'pandas' has no attribute 'find'",
     "output_type": "error",
     "traceback": [
      "\u001b[1;31m---------------------------------------------------------------------------\u001b[0m",
      "\u001b[1;31mAttributeError\u001b[0m                            Traceback (most recent call last)",
      "\u001b[1;32m<ipython-input-43-cc0ac13e64b1>\u001b[0m in \u001b[0;36m<module>\u001b[1;34m\u001b[0m\n\u001b[0;32m      3\u001b[0m \u001b[0mdegree\u001b[0m \u001b[1;33m=\u001b[0m \u001b[0mnx\u001b[0m\u001b[1;33m.\u001b[0m\u001b[0mdegree_centrality\u001b[0m\u001b[1;33m(\u001b[0m\u001b[0mg\u001b[0m\u001b[1;33m)\u001b[0m\u001b[1;33m\u001b[0m\u001b[1;33m\u001b[0m\u001b[0m\n\u001b[0;32m      4\u001b[0m \u001b[0mprint\u001b[0m\u001b[1;33m(\u001b[0m\u001b[0mmax\u001b[0m\u001b[1;33m(\u001b[0m\u001b[0mdegree\u001b[0m\u001b[1;33m)\u001b[0m\u001b[1;33m)\u001b[0m\u001b[1;33m\u001b[0m\u001b[1;33m\u001b[0m\u001b[0m\n\u001b[1;32m----> 5\u001b[1;33m \u001b[0mpd\u001b[0m\u001b[1;33m.\u001b[0m\u001b[0mfind\u001b[0m\u001b[1;33m(\u001b[0m\u001b[1;34m'ZYL'\u001b[0m\u001b[1;33m)\u001b[0m\u001b[1;33m\u001b[0m\u001b[1;33m\u001b[0m\u001b[0m\n\u001b[0m",
      "\u001b[1;32m~\\Anaconda3\\lib\\site-packages\\pandas\\__init__.py\u001b[0m in \u001b[0;36m__getattr__\u001b[1;34m(name)\u001b[0m\n\u001b[0;32m    256\u001b[0m             \u001b[1;32mreturn\u001b[0m \u001b[0m_SparseArray\u001b[0m\u001b[1;33m\u001b[0m\u001b[1;33m\u001b[0m\u001b[0m\n\u001b[0;32m    257\u001b[0m \u001b[1;33m\u001b[0m\u001b[0m\n\u001b[1;32m--> 258\u001b[1;33m         \u001b[1;32mraise\u001b[0m \u001b[0mAttributeError\u001b[0m\u001b[1;33m(\u001b[0m\u001b[1;34mf\"module 'pandas' has no attribute '{name}'\"\u001b[0m\u001b[1;33m)\u001b[0m\u001b[1;33m\u001b[0m\u001b[1;33m\u001b[0m\u001b[0m\n\u001b[0m\u001b[0;32m    259\u001b[0m \u001b[1;33m\u001b[0m\u001b[0m\n\u001b[0;32m    260\u001b[0m \u001b[1;33m\u001b[0m\u001b[0m\n",
      "\u001b[1;31mAttributeError\u001b[0m: module 'pandas' has no attribute 'find'"
     ]
    }
   ],
   "source": [
    "#degree centrality.\n",
    "\n",
    "degree = nx.degree_centrality(g)\n",
    "print(max(degree))\n"
   ]
  },
  {
   "cell_type": "code",
   "execution_count": 45,
   "metadata": {},
   "outputs": [
    {
     "name": "stdout",
     "output_type": "stream",
     "text": [
      "ZYL\n"
     ]
    }
   ],
   "source": [
    "# closeness centrality\n",
    "closeness = nx.closeness_centrality(g)\n",
    "print(max(closeness))"
   ]
  },
  {
   "cell_type": "code",
   "execution_count": 46,
   "metadata": {},
   "outputs": [
    {
     "name": "stdout",
     "output_type": "stream",
     "text": [
      "ZYL\n"
     ]
    }
   ],
   "source": [
    "## Betweeness Centrality \n",
    "betweenness = nx.betweenness_centrality(g)\n",
    "print(max(betweenness))"
   ]
  },
  {
   "cell_type": "code",
   "execution_count": 47,
   "metadata": {},
   "outputs": [
    {
     "name": "stdout",
     "output_type": "stream",
     "text": [
      "ZYL\n"
     ]
    }
   ],
   "source": [
    "## Eigen-Vector Centrality\n",
    "evg = nx.eigenvector_centrality(g)\n",
    "print(max(evg))\n"
   ]
  },
  {
   "cell_type": "code",
   "execution_count": 48,
   "metadata": {},
   "outputs": [
    {
     "name": "stdout",
     "output_type": "stream",
     "text": [
      "ZYL\n"
     ]
    }
   ],
   "source": [
    "# cluster coefficient\n",
    "cluster_coeff = nx.clustering(g)\n",
    "print(max(cluster_coeff))"
   ]
  },
  {
   "cell_type": "code",
   "execution_count": 50,
   "metadata": {},
   "outputs": [
    {
     "name": "stdout",
     "output_type": "stream",
     "text": [
      "0.4870933566129556\n"
     ]
    }
   ],
   "source": [
    "# Average clustering\n",
    "average_c = nx.average_clustering(g) \n",
    "print(average_c)"
   ]
  }
 ],
 "metadata": {
  "kernelspec": {
   "display_name": "Python 3",
   "language": "python",
   "name": "python3"
  },
  "language_info": {
   "codemirror_mode": {
    "name": "ipython",
    "version": 3
   },
   "file_extension": ".py",
   "mimetype": "text/x-python",
   "name": "python",
   "nbconvert_exporter": "python",
   "pygments_lexer": "ipython3",
   "version": "3.8.5"
  }
 },
 "nbformat": 4,
 "nbformat_minor": 4
}
